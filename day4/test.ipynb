{
 "cells": [
  {
   "cell_type": "code",
   "execution_count": 1,
   "metadata": {},
   "outputs": [],
   "source": [
    "import re"
   ]
  },
  {
   "cell_type": "code",
   "execution_count": 13,
   "metadata": {},
   "outputs": [
    {
     "name": "stdout",
     "output_type": "stream",
     "text": [
      "{41, 48, 17, 83, 86}\n",
      "{6, 9, 48, 17, 83, 53, 86, 31}\n",
      "4\n"
     ]
    }
   ],
   "source": [
    "string = \"Card 1: 41 48 83 86 17 | 83 86  6 31 17  9 48 53\"\n",
    "\n",
    "DIGITS = re.compile(r'\\d+')\n",
    "row = string[8:].split('|')\n",
    "nums = {}\n",
    "for i, r in enumerate(row):\n",
    "    cur_nums = set()\n",
    "    for item in re.finditer(DIGITS, r):\n",
    "        #print(item.group())\n",
    "        #print(i)\n",
    "        cur_nums.add(int(item.group()))\n",
    "    nums[i] = cur_nums\n",
    "power = len(nums[0].intersection(nums[1]))\n"
   ]
  }
 ],
 "metadata": {
  "kernelspec": {
   "display_name": "Python 3",
   "language": "python",
   "name": "python3"
  },
  "language_info": {
   "codemirror_mode": {
    "name": "ipython",
    "version": 3
   },
   "file_extension": ".py",
   "mimetype": "text/x-python",
   "name": "python",
   "nbconvert_exporter": "python",
   "pygments_lexer": "ipython3",
   "version": "3.8.10"
  },
  "orig_nbformat": 4
 },
 "nbformat": 4,
 "nbformat_minor": 2
}
