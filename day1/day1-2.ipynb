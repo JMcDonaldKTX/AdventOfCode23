{
 "cells": [
  {
   "cell_type": "code",
   "execution_count": 37,
   "metadata": {},
   "outputs": [],
   "source": [
    "import pandas as pd\n",
    "import re"
   ]
  },
  {
   "cell_type": "code",
   "execution_count": 59,
   "metadata": {},
   "outputs": [
    {
     "name": "stdout",
     "output_type": "stream",
     "text": [
      "                                   Input\n",
      "0          gtlbhbjgkrb5sixfivefivetwosix\n",
      "1    ninesixrgxccvrqscbskgzxh6cpvpxsqnb6\n",
      "2                       dxxzrlzkksfsffp4\n",
      "3        sbzvmddhnjtwollnjv33d2lbcscstqt\n",
      "4                               88xpnfpb\n",
      "..                                   ...\n",
      "995             oneqdlsb7sixllszjbceight\n",
      "996         xmqxqsixpgclxldnvlzvjm7nine4\n",
      "997  fourfive4tttldbmmkxvhqrmvmrkpxfzbd7\n",
      "998                               44two1\n",
      "999                        eightrtsjszc2\n",
      "\n",
      "[1000 rows x 1 columns]\n"
     ]
    }
   ],
   "source": [
    "df = pd.read_csv('day1-1.csv')\n",
    "\n",
    "print(df)"
   ]
  },
  {
   "cell_type": "code",
   "execution_count": 63,
   "metadata": {},
   "outputs": [],
   "source": [
    "let_as_num = {'one':1,'two':2,'three':3,'four':4,'five':5,'six':6,'seven':7,'eight':8,'nine':9} \n",
    "def replace_words_with_num(cur_str):\n",
    "    value = cur_str\n",
    "    for word, num in let_as_num.items():\n",
    "        #value = value.replace(word,str(num))  #can't only use replace since it ends up messing up other word numbers\n",
    "        #wondering if I should replace just the middle of the digits...\n",
    "        #like insert a number where it is found + 1 to offset,rather than replace...\n",
    "        #since all that matters is the first and last, just replace those I guess.\n",
    "        location = value.find(word)\n",
    "        while location >= 0:\n",
    "            value = value[:location+2] + str(num) + value[location+1:]\n",
    "            location = value.find(word)\n",
    "    return value\n"
   ]
  },
  {
   "cell_type": "code",
   "execution_count": 64,
   "metadata": {},
   "outputs": [
    {
     "name": "stdout",
     "output_type": "stream",
     "text": [
      "ei8ightnqzrshnbf7gxpndlncztw2wonztq\n",
      "['8', '7', '2']\n",
      "82\n",
      "szsvltgsc1on1necccbfo4our3on1nei8ightfh\n",
      "['1', '1', '4', '3', '1', '8']\n",
      "18\n",
      "vjdbqpni9inepqhlbcj61si6ixni9ine\n",
      "['9', '6', '1', '6', '9']\n",
      "99\n",
      "2dbpnlhxtdni9inesi6ix896se7evenj\n",
      "['2', '9', '6', '8', '9', '6', '7']\n",
      "27\n",
      "6fi5iventh3hree6\n",
      "['6', '5', '3', '6']\n",
      "66\n",
      "53855\n"
     ]
    }
   ],
   "source": [
    "total = 0\n",
    "for index, row in df.iterrows():\n",
    "    #print(row['Input'])\n",
    "    curstr = row['Input']\n",
    "    upd_curstr = replace_words_with_num(curstr)\n",
    "    #print(upd_curstr)\n",
    "    all_vals = [(c) for i, c in enumerate(upd_curstr) if c.isdigit()]\n",
    "    num = str(all_vals[0]) + str(all_vals[-1])\n",
    "    total = total + int(num)\n",
    "    # if index in [26,27,28,29,30]:\n",
    "    #     print(upd_curstr)\n",
    "    #     print(all_vals)\n",
    "    #     print(num)\n",
    "            \n",
    "    \n",
    "print(total)"
   ]
  }
 ],
 "metadata": {
  "kernelspec": {
   "display_name": "Python 3",
   "language": "python",
   "name": "python3"
  },
  "language_info": {
   "codemirror_mode": {
    "name": "ipython",
    "version": 3
   },
   "file_extension": ".py",
   "mimetype": "text/x-python",
   "name": "python",
   "nbconvert_exporter": "python",
   "pygments_lexer": "ipython3",
   "version": "3.10.9"
  },
  "orig_nbformat": 4
 },
 "nbformat": 4,
 "nbformat_minor": 2
}
