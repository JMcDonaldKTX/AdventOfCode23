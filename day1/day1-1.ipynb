{
 "cells": [
  {
   "cell_type": "code",
   "execution_count": 7,
   "metadata": {},
   "outputs": [],
   "source": [
    "import pandas as pd\n",
    "\n"
   ]
  },
  {
   "cell_type": "code",
   "execution_count": 14,
   "metadata": {},
   "outputs": [
    {
     "name": "stdout",
     "output_type": "stream",
     "text": [
      "                                   Input\n",
      "0          gtlbhbjgkrb5sixfivefivetwosix\n",
      "1    ninesixrgxccvrqscbskgzxh6cpvpxsqnb6\n",
      "2                       dxxzrlzkksfsffp4\n",
      "3        sbzvmddhnjtwollnjv33d2lbcscstqt\n",
      "4                               88xpnfpb\n",
      "..                                   ...\n",
      "995             oneqdlsb7sixllszjbceight\n",
      "996         xmqxqsixpgclxldnvlzvjm7nine4\n",
      "997  fourfive4tttldbmmkxvhqrmvmrkpxfzbd7\n",
      "998                               44two1\n",
      "999                        eightrtsjszc2\n",
      "\n",
      "[1000 rows x 1 columns]\n"
     ]
    }
   ],
   "source": [
    "df = pd.read_csv('day1-1.csv')\n",
    "\n",
    "print(df)"
   ]
  },
  {
   "cell_type": "code",
   "execution_count": 15,
   "metadata": {},
   "outputs": [
    {
     "name": "stdout",
     "output_type": "stream",
     "text": [
      "54634\n"
     ]
    }
   ],
   "source": [
    "total = 0\n",
    "for index, row in df.iterrows():\n",
    "    #print(row['Input'])\n",
    "    curstr = row['Input']\n",
    "    all_vals = [(c) for i, c in enumerate(curstr) if c.isdigit()]\n",
    "    num = str(all_vals[0]) + str(all_vals[-1])\n",
    "    total = total + int(num)\n",
    "    \n",
    "print(total)\n",
    "    "
   ]
  }
 ],
 "metadata": {
  "kernelspec": {
   "display_name": "Python 3",
   "language": "python",
   "name": "python3"
  },
  "language_info": {
   "codemirror_mode": {
    "name": "ipython",
    "version": 3
   },
   "file_extension": ".py",
   "mimetype": "text/x-python",
   "name": "python",
   "nbconvert_exporter": "python",
   "pygments_lexer": "ipython3",
   "version": "3.10.9"
  },
  "orig_nbformat": 4
 },
 "nbformat": 4,
 "nbformat_minor": 2
}
