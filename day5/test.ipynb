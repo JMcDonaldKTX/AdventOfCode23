{
 "cells": [
  {
   "cell_type": "code",
   "execution_count": 1,
   "metadata": {},
   "outputs": [],
   "source": [
    "import re"
   ]
  },
  {
   "cell_type": "code",
   "execution_count": 13,
   "metadata": {},
   "outputs": [
    {
     "name": "stdout",
     "output_type": "stream",
     "text": [
      "{41, 48, 17, 83, 86}\n",
      "{6, 9, 48, 17, 83, 53, 86, 31}\n",
      "4\n"
     ]
    }
   ],
   "source": [
    "string = \"Card 1: 41 48 83 86 17 | 83 86  6 31 17  9 48 53\"\n",
    "\n",
    "DIGITS = re.compile(r'\\d+')\n",
    "row = string[8:].split('|')\n",
    "nums = {}\n",
    "for i, r in enumerate(row):\n",
    "    cur_nums = set()\n",
    "    for item in re.finditer(DIGITS, r):\n",
    "        #print(item.group())\n",
    "        #print(i)\n",
    "        cur_nums.add(int(item.group()))\n",
    "    nums[i] = cur_nums\n",
    "power = len(nums[0].intersection(nums[1]))\n"
   ]
  },
  {
   "cell_type": "code",
   "execution_count": 1,
   "metadata": {},
   "outputs": [
    {
     "name": "stdout",
     "output_type": "stream",
     "text": [
      "soil\n"
     ]
    }
   ],
   "source": [
    "string = \"seed-to-soil map:\"\n",
    "cur_cat = string.split(' ')[0].split('-')[2]\n",
    "print(cur_cat)"
   ]
  },
  {
   "cell_type": "code",
   "execution_count": 8,
   "metadata": {},
   "outputs": [
    {
     "name": "stdout",
     "output_type": "stream",
     "text": [
      "[[1640984363, 3136305987, 77225710], [3469528922, 1857474741, 56096642], [278465165, 2901870617, 105516220], [1442950910, 1913571383, 198033453], [463085535, 1458252975, 13696838], [1718210073, 1686050230, 171424511], [383981385, 3064707638, 71598349], [1267048154, 3759577328, 175902756], [3262934306, 1479455614, 206594616], [2493001016, 200414015, 157177749], [3885112776, 411057950, 157348766], [4042461542, 1181162257, 199039568], [476782373, 2111604836, 790265781], [455579734, 1471949813, 7505801], [1889634584, 3213531697, 546045631], [4241501110, 357591764, 53466186], [3525625564, 3935480084, 359487212], [2650178765, 568406716, 612755541], [200414015, 1380201825, 78051150], [2435680215, 3007386837, 57320801]]\n"
     ]
    }
   ],
   "source": [
    "seeds = \"seeds: 4106085912 135215567 529248892 159537194 1281459911 114322341 1857095529 814584370 2999858074 50388481 3362084117 37744902 3471634344 240133599 3737494864 346615684 1585884643 142273098 917169654 286257440\"\n",
    "st = \"\"\"seed-to-soil map:\n",
    "1640984363 3136305987 77225710\n",
    "3469528922 1857474741 56096642\n",
    "278465165 2901870617 105516220\n",
    "1442950910 1913571383 198033453\n",
    "463085535 1458252975 13696838\n",
    "1718210073 1686050230 171424511\n",
    "383981385 3064707638 71598349\n",
    "1267048154 3759577328 175902756\n",
    "3262934306 1479455614 206594616\n",
    "2493001016 200414015 157177749\n",
    "3885112776 411057950 157348766\n",
    "4042461542 1181162257 199039568\n",
    "476782373 2111604836 790265781\n",
    "455579734 1471949813 7505801\n",
    "1889634584 3213531697 546045631\n",
    "4241501110 357591764 53466186\n",
    "3525625564 3935480084 359487212\n",
    "2650178765 568406716 612755541\n",
    "200414015 1380201825 78051150\n",
    "2435680215 3007386837 57320801\"\"\"\n",
    "inputs = list(map(int, seeds.split(\":\")[1].split()))\n",
    "#print(inputs)\n",
    "\n",
    "seeds = []\n",
    "\n",
    "for i in range(0, len(inputs), 2):\n",
    "    seeds.append((inputs[i], inputs[i] + inputs[i + 1]))\n",
    "    \n",
    "#print(seeds)\n",
    "\n",
    "ranges = []\n",
    "for line in st.splitlines()[1:]:\n",
    "    ranges.append(list(map(int, line.split())))\n",
    "print(ranges)"
   ]
  }
 ],
 "metadata": {
  "kernelspec": {
   "display_name": "Python 3",
   "language": "python",
   "name": "python3"
  },
  "language_info": {
   "codemirror_mode": {
    "name": "ipython",
    "version": 3
   },
   "file_extension": ".py",
   "mimetype": "text/x-python",
   "name": "python",
   "nbconvert_exporter": "python",
   "pygments_lexer": "ipython3",
   "version": "3.10.9"
  },
  "orig_nbformat": 4
 },
 "nbformat": 4,
 "nbformat_minor": 2
}
